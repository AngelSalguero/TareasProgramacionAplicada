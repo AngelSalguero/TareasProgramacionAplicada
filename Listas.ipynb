{
  "nbformat": 4,
  "nbformat_minor": 0,
  "metadata": {
    "colab": {
      "provenance": [],
      "authorship_tag": "ABX9TyO+3ao8Ar0Ae3erFmpQb5/R",
      "include_colab_link": true
    },
    "kernelspec": {
      "name": "python3",
      "display_name": "Python 3"
    },
    "language_info": {
      "name": "python"
    }
  },
  "cells": [
    {
      "cell_type": "markdown",
      "metadata": {
        "id": "view-in-github",
        "colab_type": "text"
      },
      "source": [
        "<a href=\"https://colab.research.google.com/github/AngelSalguero/TareasProgramacionAplicada/blob/main/Listas.ipynb\" target=\"_parent\"><img src=\"https://colab.research.google.com/assets/colab-badge.svg\" alt=\"Open In Colab\"/></a>"
      ]
    },
    {
      "cell_type": "code",
      "source": [
        "print(\"Ejercicios tuplas y bibliotecas\")"
      ],
      "metadata": {
        "id": "FxsLDHhirE3g"
      },
      "execution_count": null,
      "outputs": []
    },
    {
      "cell_type": "code",
      "source": [
        "listamaterias=[]\n",
        "\n",
        "num_materias=int(input('ingrese la cantidad de materias: '))\n",
        "\n",
        "for i in range(num_materias):\n",
        "  materia=input('ingrese el nombre de la materia '+ str(i+1))\n",
        "  listamaterias.append(materia)\n",
        "\n",
        "print(listamaterias)"
      ],
      "metadata": {
        "id": "HKe9jIx0i67b"
      },
      "execution_count": null,
      "outputs": []
    },
    {
      "cell_type": "code",
      "execution_count": null,
      "metadata": {
        "colab": {
          "base_uri": "https://localhost:8080/"
        },
        "id": "ZxFNquwXe7kL",
        "outputId": "9c4b0602-2c57-4938-b2b7-23bcc474bec9"
      },
      "outputs": [
        {
          "output_type": "stream",
          "name": "stdout",
          "text": [
            "Ingrese la nota que espera de calculo 5\n",
            "Ingrese la nota que espera de progAplicada 5\n",
            "Ingrese la nota que espera de etica 5\n",
            "Ingrese la nota que espera de bases de datos 5\n",
            "[5.0, 5.0, 5.0, 5.0]\n"
          ]
        }
      ],
      "source": [
        "listamat = [\"calculo\", \"progAplicada\", \"etica\", \"bases de datos\"]\n",
        "\n",
        "notas = []\n",
        "for i in range (len(listamat)):\n",
        "  nota = float( input(\"Ingrese la nota que espera de \" + listamat[i] + \" \") )\n",
        "  notas.append(nota)\n",
        "\n",
        "print(notas)"
      ]
    },
    {
      "cell_type": "code",
      "source": [
        "aprobadas = []\n",
        "reprobadas = []\n",
        "for i in range (len(listamat)):\n",
        "  if(notas[i]>3):\n",
        "    aprobadas.append(listamat[i])\n",
        "  else:\n",
        "    reprobadas.append(listamat[i])\n",
        "\n",
        "print(\"Las materias aprobadas fueron: \" + str(aprobadas))\n",
        "print(\"Las materias aprobadas fueron: \" + str(reprobadas))\n"
      ],
      "metadata": {
        "colab": {
          "base_uri": "https://localhost:8080/"
        },
        "id": "lPtNAdYai9KC",
        "outputId": "19f21400-7e10-47e9-b9b4-4994e8f30c32"
      },
      "execution_count": null,
      "outputs": [
        {
          "output_type": "stream",
          "name": "stdout",
          "text": [
            "Las materias aprobadas fueron: ['calculo', 'progAplicada', 'etica', 'bases de datos']\n",
            "Las materias aprobadas fueron: []\n"
          ]
        }
      ]
    },
    {
      "cell_type": "code",
      "source": [
        "print( \"Cual palabra quiere evaluar?  \" )\n",
        "palabra = input()\n",
        "#palabra = palabra.replace(\" \", \" \")\n",
        "palabra = palabra.lower()\n",
        "if str(palabra) == str(palabra)[::-1] :\n",
        "    print(\"Palíndromo\")\n",
        "else:\n",
        "    print(\"No Palíndromo\")"
      ],
      "metadata": {
        "colab": {
          "base_uri": "https://localhost:8080/"
        },
        "id": "X4MNa2z_oi5v",
        "outputId": "5cf44613-3671-4f50-8e8d-7d47b0501dbb"
      },
      "execution_count": null,
      "outputs": [
        {
          "output_type": "stream",
          "name": "stdout",
          "text": [
            "Cual palabra quiere evaluar?  \n",
            "anitalavalatina\n",
            "Palíndromo\n"
          ]
        }
      ]
    },
    {
      "cell_type": "code",
      "source": [
        "import math\n",
        "\n",
        "Mag1 = float(input( \"ingrese la primera magnitud: \" ))\n",
        "Mag2 = float(input( \"ingrese la magnitud del vector 2: \" ))\n",
        "Grad = float(input( \"ingrese los grados entre los dos vectores: \" ))\n",
        "\n",
        "MagTot = (Mag1*Mag2)\n",
        "direc = (math.cos(Grad))\n",
        "print(\"La magnitud escalar es: \" +str(MagTot)+ \" y su direccion es: \" +str(direc)+ \" grados\")"
      ],
      "metadata": {
        "colab": {
          "base_uri": "https://localhost:8080/"
        },
        "id": "ftIHhJJIq1aa",
        "outputId": "3c518536-ca3f-4e29-db2d-7fef70cec3d5"
      },
      "execution_count": null,
      "outputs": [
        {
          "output_type": "stream",
          "name": "stdout",
          "text": [
            "ingrese la primera magnitud: 55\n",
            "ingrese la magnitud del vector 2: 55\n",
            "ingrese los grados entre los dos vectores: 50\n",
            "La magnitud escalar es: 3025.0 y su direccion es: 0.9649660284921133 grados\n"
          ]
        }
      ]
    },
    {
      "cell_type": "code",
      "source": [
        "#Construir un programa que le solicite al usuario un conjunto de números, el programa recibirá números hasta que el usuario escriba la palabra \"fin\" en la consola, luego de eso el sistema le devolverá en consola la media y la desviación estandar de los datos (Para facilitar el trabajo puede buscar y usar librerías)\n",
        "import numpy as np\n",
        "lista = []\n",
        "while True:\n",
        "  val=input(\"Ingrese un valor o fin \")\n",
        "  if val == \"fin\":\n",
        "    break\n",
        "  else:\n",
        "    lista.append(float(val))\n",
        "\n",
        "m=np.mean(lista)\n",
        "std=np.std(lista)\n",
        "print(\"Media \",m)\n",
        "print(\"desviacion \",std)"
      ],
      "metadata": {
        "id": "tezeqN6prQBU",
        "outputId": "a031a94c-6460-4e51-dee0-0e18c1447c0c",
        "colab": {
          "base_uri": "https://localhost:8080/"
        }
      },
      "execution_count": null,
      "outputs": [
        {
          "output_type": "stream",
          "name": "stdout",
          "text": [
            "Ingrese un valor o fin 5\n",
            "Ingrese un valor o fin 5\n",
            "Ingrese un valor o fin 5\n",
            "Ingrese un valor o fin fin\n",
            "Media  5.0\n",
            "desviacion  0.0\n"
          ]
        }
      ]
    },
    {
      "cell_type": "code",
      "source": [
        "#Construir un programa al que se le ingresa el monto a pagar por el usuario, luego recibe la cantidad de dinero que ingresó el usuario y le entrega el cambio en las denominaciones colombianas más grandes que pueda. Ejemplo:\\ Monto a pagar 16700\\ Monto con el que se paga: 20000\\ El cambio es:\\ 1 billete de 2000\\ 1 moneda de 1000\\ 1 moneda de 200\\ 1 moneda de 100\n",
        "pagar = float(input(\" ¿Cuanto debe el usuario? \"))\n",
        "pago =  float(input(\" ¿Cuanto pagó? \"))\n",
        "devolver = []\n",
        "bil100 = []\n",
        "bil50 = []\n",
        "bil20 = []\n",
        "bil10 = []\n",
        "bil5 = []\n",
        "bil2 = []\n",
        "bil1 = []\n",
        "mon500 = []\n",
        "mon200 = []\n",
        "mon100 = []\n",
        "mon50 = []\n",
        "residuo = pago-pagar\n",
        "if pagar>pago: \n",
        "  falta = (pagar-pago)\n",
        "  print(\"Le faltó dinero. \")\n",
        "  print(\"Pague >:l\")\n",
        "  print(\"Le faltan \",falta)\n",
        "elif pagar==pago:\n",
        "  print(\"No ha vueltas\")\n",
        "  print(\"Feliz dia\")\n",
        "else:\n",
        "  while (residuo!=0):\n",
        "    if (residuo)>=(100000):\n",
        "      bil100.append(1)\n",
        "      residuo = residuo-100000\n",
        "    elif (residuo)<(100000) and (residuo)>=(50000):\n",
        "      bil50.append(1)\n",
        "      residuo = residuo-50000\n",
        "    elif (residuo)<(50000) and (residuo)>=(20000):\n",
        "      bil20.append(1)\n",
        "      residuo = residuo-20000\n",
        "    elif (residuo)<(20000) and (residuo)>=(10000):\n",
        "      bil10.append(1)\n",
        "      residuo = residuo-10000\n",
        "    elif (residuo)<(10000) and (residuo)>=(5000):\n",
        "      bil5.append(1)\n",
        "      residuo = residuo-5000\n",
        "    elif (residuo)<(5000) and (residuo)>=(2000):\n",
        "      bil2.append(1)\n",
        "      residuo = residuo-2000\n",
        "    elif (residuo)<(2000) and (residuo)>=(1000):\n",
        "      bil1.append(1)\n",
        "      residuo = residuo-1000\n",
        "    elif (residuo)<(1000) and (residuo)>=(500):\n",
        "      mon500.append(1)\n",
        "      residuo = residuo-500\n",
        "    elif (residuo)<(500) and (residuo)>=(200):\n",
        "      mon200.append(1)\n",
        "      residuo = residuo-200\n",
        "    elif (residuo)<(200) and (residuo)>=(100):\n",
        "      mon100.append(1)\n",
        "      residuo = residuo-100\n",
        "    elif (residuo)<(100) and (residuo)>=(50):\n",
        "      mon50.append(1)\n",
        "      residuo = residuo-50\n",
        "    else:\n",
        "      break\n",
        "devolver=[len(bil100),100000,len(bil50), 50000,len(bil20), 20000,len(bil10), 10000,len(bil5), 5000 ,len(bil2), 2000,len(bil1), 1000,len(mon500), 500 ,len(mon200), 200,len(mon100), 100,len(mon50), 50]\n",
        "\n",
        "for i in range(0,len(devolver),2) :\n",
        "  if (devolver[i]>0):\n",
        "    print(\"Devolver \" ,devolver[i],\" billetes o monedas de \",devolver[i+1])\n",
        "\n"
      ],
      "metadata": {
        "id": "CgBUrL3bpDQz",
        "colab": {
          "base_uri": "https://localhost:8080/"
        },
        "outputId": "234ca46d-9037-4c2f-88a3-5943f502b546"
      },
      "execution_count": 22,
      "outputs": [
        {
          "output_type": "stream",
          "name": "stdout",
          "text": [
            " ¿Cuanto debe el usuario? 100\n",
            " ¿Cuanto pagó? 500000\n",
            "Devolver  4  billetes o monedas de  100000\n",
            "Devolver  1  billetes o monedas de  50000\n",
            "Devolver  2  billetes o monedas de  20000\n",
            "Devolver  1  billetes o monedas de  5000\n",
            "Devolver  2  billetes o monedas de  2000\n",
            "Devolver  1  billetes o monedas de  500\n",
            "Devolver  2  billetes o monedas de  200\n"
          ]
        }
      ]
    },
    {
      "cell_type": "code",
      "source": [
        "help(range)"
      ],
      "metadata": {
        "colab": {
          "base_uri": "https://localhost:8080/"
        },
        "id": "qqZnT_ITsUX2",
        "outputId": "b18bf012-95a9-49fc-c6d4-46aba717c345"
      },
      "execution_count": 20,
      "outputs": [
        {
          "output_type": "stream",
          "name": "stdout",
          "text": [
            "Help on class range in module builtins:\n",
            "\n",
            "class range(object)\n",
            " |  range(stop) -> range object\n",
            " |  range(start, stop[, step]) -> range object\n",
            " |  \n",
            " |  Return an object that produces a sequence of integers from start (inclusive)\n",
            " |  to stop (exclusive) by step.  range(i, j) produces i, i+1, i+2, ..., j-1.\n",
            " |  start defaults to 0, and stop is omitted!  range(4) produces 0, 1, 2, 3.\n",
            " |  These are exactly the valid indices for a list of 4 elements.\n",
            " |  When step is given, it specifies the increment (or decrement).\n",
            " |  \n",
            " |  Methods defined here:\n",
            " |  \n",
            " |  __bool__(self, /)\n",
            " |      self != 0\n",
            " |  \n",
            " |  __contains__(self, key, /)\n",
            " |      Return key in self.\n",
            " |  \n",
            " |  __eq__(self, value, /)\n",
            " |      Return self==value.\n",
            " |  \n",
            " |  __ge__(self, value, /)\n",
            " |      Return self>=value.\n",
            " |  \n",
            " |  __getattribute__(self, name, /)\n",
            " |      Return getattr(self, name).\n",
            " |  \n",
            " |  __getitem__(self, key, /)\n",
            " |      Return self[key].\n",
            " |  \n",
            " |  __gt__(self, value, /)\n",
            " |      Return self>value.\n",
            " |  \n",
            " |  __hash__(self, /)\n",
            " |      Return hash(self).\n",
            " |  \n",
            " |  __iter__(self, /)\n",
            " |      Implement iter(self).\n",
            " |  \n",
            " |  __le__(self, value, /)\n",
            " |      Return self<=value.\n",
            " |  \n",
            " |  __len__(self, /)\n",
            " |      Return len(self).\n",
            " |  \n",
            " |  __lt__(self, value, /)\n",
            " |      Return self<value.\n",
            " |  \n",
            " |  __ne__(self, value, /)\n",
            " |      Return self!=value.\n",
            " |  \n",
            " |  __reduce__(...)\n",
            " |      Helper for pickle.\n",
            " |  \n",
            " |  __repr__(self, /)\n",
            " |      Return repr(self).\n",
            " |  \n",
            " |  __reversed__(...)\n",
            " |      Return a reverse iterator.\n",
            " |  \n",
            " |  count(...)\n",
            " |      rangeobject.count(value) -> integer -- return number of occurrences of value\n",
            " |  \n",
            " |  index(...)\n",
            " |      rangeobject.index(value) -> integer -- return index of value.\n",
            " |      Raise ValueError if the value is not present.\n",
            " |  \n",
            " |  ----------------------------------------------------------------------\n",
            " |  Static methods defined here:\n",
            " |  \n",
            " |  __new__(*args, **kwargs) from builtins.type\n",
            " |      Create and return a new object.  See help(type) for accurate signature.\n",
            " |  \n",
            " |  ----------------------------------------------------------------------\n",
            " |  Data descriptors defined here:\n",
            " |  \n",
            " |  start\n",
            " |  \n",
            " |  step\n",
            " |  \n",
            " |  stop\n",
            "\n"
          ]
        }
      ]
    }
  ]
}