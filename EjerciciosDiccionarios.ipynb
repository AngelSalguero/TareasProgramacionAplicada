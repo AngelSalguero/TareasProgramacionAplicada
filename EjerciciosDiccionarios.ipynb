{
  "nbformat": 4,
  "nbformat_minor": 0,
  "metadata": {
    "colab": {
      "provenance": [],
      "authorship_tag": "ABX9TyOwb9Y4LW0eSOy5aOd9ERKt",
      "include_colab_link": true
    },
    "kernelspec": {
      "name": "python3",
      "display_name": "Python 3"
    },
    "language_info": {
      "name": "python"
    }
  },
  "cells": [
    {
      "cell_type": "markdown",
      "metadata": {
        "id": "view-in-github",
        "colab_type": "text"
      },
      "source": [
        "<a href=\"https://colab.research.google.com/github/AngelSalguero/TareasProgramacionAplicada/blob/main/EjerciciosDiccionarios.ipynb\" target=\"_parent\"><img src=\"https://colab.research.google.com/assets/colab-badge.svg\" alt=\"Open In Colab\"/></a>"
      ]
    },
    {
      "cell_type": "code",
      "execution_count": null,
      "metadata": {
        "id": "OmCzAma3Tzk-"
      },
      "outputs": [],
      "source": [
        "# Disccionarios "
      ]
    },
    {
      "cell_type": "code",
      "source": [
        "#Escribir un programa que guarde en una variable el diccionario {'Euro':'€', 'Dollar':'$', 'Yen':'¥'}, \n",
        "#pregunte al usuario por una divisa y muestre su símbolo o un mensaje de aviso si la divisa no está en el diccionario.\n",
        "a = {'Euro':'€', 'Dollar':'$', 'Yen':'¥'}\n",
        "b = input(\"Ingrese una divisa: \")\n",
        "b = b.title()\n",
        "if b in a:\n",
        "  print(\"La divisa \" ,b, \" tiene el simbolo \" ,a[b] )\n",
        "else:\n",
        "  print(\"La divisa \" , b , \" no está en el diccionario\")"
      ],
      "metadata": {
        "colab": {
          "base_uri": "https://localhost:8080/"
        },
        "id": "UAKE_ft6T-bf",
        "outputId": "e3ad8fb4-aa19-40d2-c8a2-3cdc0912c593"
      },
      "execution_count": 13,
      "outputs": [
        {
          "output_type": "stream",
          "name": "stdout",
          "text": [
            "Ingrese una divisa: euro\n",
            "La divisa  Euro  tiene el simbolo  €\n"
          ]
        }
      ]
    },
    {
      "cell_type": "code",
      "source": [
        "#Escribir un programa que pregunte al usuario su nombre, edad, dirección y teléfono y lo guarde en un diccionario.\n",
        "# Después debe mostrar por pantalla el mensaje \\<nombre> tiene \\<edad> años, vive en \\<dirección> y su número de teléfono es \\<teléfono>.\n",
        "Datos = {}\n",
        "Datos[\"nombre\"] = input(\"Ingrese su nombre: \")\n",
        "Datos[\"edad\"] = input(\"Ingrese su edad: \")\n",
        "Datos[\"direccion\"] = input(\"Ingrese su dirección: \")\n",
        "Datos[\"telefono\"] = input(\"Ingrese su teléfono: \")\n",
        "print( Datos[\"nombre\"],\" tiene \" ,Datos[\"edad\"], \" años, vive en \",Datos[\"direccion\"],\" y su número de teléfono es \",Datos[\"telefono\"])"
      ],
      "metadata": {
        "colab": {
          "base_uri": "https://localhost:8080/"
        },
        "id": "7dA5mna3ZBMw",
        "outputId": "ad264999-f3b9-4b38-b277-cdfde958144f"
      },
      "execution_count": 15,
      "outputs": [
        {
          "output_type": "stream",
          "name": "stdout",
          "text": [
            "Ingrese su nombre: Miguel\n",
            "Ingrese su edad: 20\n",
            "Ingrese su dirección: tuCorazon\n",
            "Ingrese su teléfono: 3508909578\n",
            "Miguel  tiene  20  años, vive en  tuCorazon  y su número de teléfono es  3508909578\n"
          ]
        }
      ]
    },
    {
      "cell_type": "code",
      "source": [
        "#Escribir un programa que guarde en un diccionario {Plátano:1.35, Manzana:0.80, Pera:0.85, Naranja:0.70} con los precios de las frutas, \n",
        "#pregunte al usuario por una fruta, un número de kilos y muestre por pantalla el precio de ese número de kilos de fruta. Si la fruta no está \n",
        "#en el diccionario debe mostrar un mensaje informando de ello.\n",
        "\n",
        "frutas = {\"Platano\":1.35, \"Manzana\":0.80, \"Pera\":0.85, \"Naranja\":0.70}\n",
        "contador = 1\n",
        "while contador==1:\n",
        " compra = input(\"Que fruta desea comprar? \")\n",
        " compra = compra.title()\n",
        " kilos = input(\"Cuantos kilos llevará? \")\n",
        " if compra in frutas:\n",
        "   precio = (float(frutas[compra])*float(kilos))\n",
        "   print(\"Pague \",precio, \" pesos por \" , kilos, \" de \" , compra)\n",
        " else:\n",
        "  print(\"La fruta \",compra, \" no está en la tienda\")\n",
        " contador=int(input(\"Si desea hacer otra compra ingrese el numero 1, de lo contrario ingrese cualquier digito: \"))"
      ],
      "metadata": {
        "colab": {
          "base_uri": "https://localhost:8080/"
        },
        "id": "ZyQL8JnGecmY",
        "outputId": "f5d3ae08-26d7-44e1-b156-79c3d72594c6"
      },
      "execution_count": 21,
      "outputs": [
        {
          "name": "stdout",
          "output_type": "stream",
          "text": [
            "Que fruta desea comprar? platano\n",
            "Cuantos kilos llevará? 5\n",
            "Pague  6.75  pesos por  5  de  Platano\n",
            "Si desea hacer otra compra ingrese el numero 1, de lo contrario ingrese cualquier digito: 1\n",
            "Que fruta desea comprar? manzana\n",
            "Cuantos kilos llevará? 8\n",
            "Pague  6.4  pesos por  8  de  Manzana\n",
            "Si desea hacer otra compra ingrese el numero 1, de lo contrario ingrese cualquier digito: 1\n",
            "Que fruta desea comprar? Orinico\n",
            "Cuantos kilos llevará? 4\n",
            "La fruta  Orinico  no está en la tienda\n",
            "Si desea hacer otra compra ingrese el numero 1, de lo contrario ingrese cualquier digito: 1\n",
            "Que fruta desea comprar? pera\n",
            "Cuantos kilos llevará? 500\n",
            "Pague  425.0  pesos por  500  de  Pera\n",
            "Si desea hacer otra compra ingrese el numero 1, de lo contrario ingrese cualquier digito: 0\n"
          ]
        }
      ]
    },
    {
      "cell_type": "code",
      "source": [
        "#Escribir un programa que cree un diccionario simulando una cesta de la compra. El programa debe preguntar el artículo y su precio y \n",
        "#añadir el par al diccionario, hasta que el usuario decida terminar. Después se debe mostrar por pantalla la lista de la compra y el coste total.\n",
        "\n",
        "canasta={}\n",
        "a=1\n",
        "while a==1:\n",
        "  Datos[\"articulo\"] = input(\"Ingrese el articulo: \")\n",
        "  Datos[\"precio\"] = input(\"Ingrese el precio: \")\n",
        "  "
      ],
      "metadata": {
        "id": "zR02L3YWj3oF"
      },
      "execution_count": null,
      "outputs": []
    }
  ]
}