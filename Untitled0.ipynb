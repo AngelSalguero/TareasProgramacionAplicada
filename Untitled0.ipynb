{
  "nbformat": 4,
  "nbformat_minor": 0,
  "metadata": {
    "colab": {
      "provenance": [],
      "authorship_tag": "ABX9TyOApGoCvGE8IckelQHLbhTZ",
      "include_colab_link": true
    },
    "kernelspec": {
      "name": "python3",
      "display_name": "Python 3"
    },
    "language_info": {
      "name": "python"
    }
  },
  "cells": [
    {
      "cell_type": "markdown",
      "metadata": {
        "id": "view-in-github",
        "colab_type": "text"
      },
      "source": [
        "<a href=\"https://colab.research.google.com/github/AngelSalguero/TareasProgramacionAplicada/blob/main/Untitled0.ipynb\" target=\"_parent\"><img src=\"https://colab.research.google.com/assets/colab-badge.svg\" alt=\"Open In Colab\"/></a>"
      ]
    },
    {
      "cell_type": "code",
      "source": [
        "listamaterias=[]\n",
        "\n",
        "num_materias=int(input('ingrese la cantidad de materias: '))\n",
        "\n",
        "for i in range(num_materias):\n",
        "  materia=input('ingrese el nombre de la materia '+ str(i+1))\n",
        "  listamaterias.append(materia)\n",
        "\n",
        "print(listamaterias)"
      ],
      "metadata": {
        "id": "HKe9jIx0i67b"
      },
      "execution_count": null,
      "outputs": []
    },
    {
      "cell_type": "code",
      "execution_count": 5,
      "metadata": {
        "colab": {
          "base_uri": "https://localhost:8080/"
        },
        "id": "ZxFNquwXe7kL",
        "outputId": "9c4b0602-2c57-4938-b2b7-23bcc474bec9"
      },
      "outputs": [
        {
          "output_type": "stream",
          "name": "stdout",
          "text": [
            "Ingrese la nota que espera de calculo 5\n",
            "Ingrese la nota que espera de progAplicada 5\n",
            "Ingrese la nota que espera de etica 5\n",
            "Ingrese la nota que espera de bases de datos 5\n",
            "[5.0, 5.0, 5.0, 5.0]\n"
          ]
        }
      ],
      "source": [
        "listamat = [\"calculo\", \"progAplicada\", \"etica\", \"bases de datos\"]\n",
        "\n",
        "notas = []\n",
        "for i in range (len(listamat)):\n",
        "  nota = float( input(\"Ingrese la nota que espera de \" + listamat[i] + \" \") )\n",
        "  notas.append(nota)\n",
        "\n",
        "print(notas)"
      ]
    },
    {
      "cell_type": "code",
      "source": [
        "aprobadas = []\n",
        "reprobadas = []\n",
        "for i in range (len(listamat)):\n",
        "  if(notas[i]>3):\n",
        "    aprobadas.append(listamat[i])\n",
        "  else:\n",
        "    reprobadas.append(listamat[i])\n",
        "\n",
        "print(\"Las materias aprobadas fueron: \" + str(aprobadas))\n",
        "print(\"Las materias aprobadas fueron: \" + str(reprobadas))\n"
      ],
      "metadata": {
        "colab": {
          "base_uri": "https://localhost:8080/"
        },
        "id": "lPtNAdYai9KC",
        "outputId": "19f21400-7e10-47e9-b9b4-4994e8f30c32"
      },
      "execution_count": 10,
      "outputs": [
        {
          "output_type": "stream",
          "name": "stdout",
          "text": [
            "Las materias aprobadas fueron: ['calculo', 'progAplicada', 'etica', 'bases de datos']\n",
            "Las materias aprobadas fueron: []\n"
          ]
        }
      ]
    },
    {
      "cell_type": "code",
      "source": [
        "print( \"Cual palabra quiere evaluar?  \" )\n",
        "palabra = input()\n",
        "palabra = palabra.replace(\" \", \" \")\n",
        "palabra = palabra.lower()\n",
        "if str(palabra) == str(palabra)[::-1] :\n",
        "    print(\"Palíndromo\")\n",
        "else:\n",
        "    print(\"No Palíndromo\")"
      ],
      "metadata": {
        "colab": {
          "base_uri": "https://localhost:8080/"
        },
        "id": "X4MNa2z_oi5v",
        "outputId": "79372758-9058-4660-822c-40ab65d06d77"
      },
      "execution_count": 24,
      "outputs": [
        {
          "output_type": "stream",
          "name": "stdout",
          "text": [
            "Cual palabra quiere evaluar?  \n",
            "Anita lava la tinta\n",
            "No Palíndromo\n"
          ]
        }
      ]
    },
    {
      "cell_type": "code",
      "source": [
        "import math\n",
        "\n",
        "Mag1 = float(input( \"ingrese la primera magnitud: \" ))\n",
        "Mag2 = float(input( \"ingrese la magnitud del vector 2: \" ))\n",
        "Grad = float(input( \"ingrese los grados entre los dos vectores: \" ))\n",
        "\n",
        "MagTot = (Mag1*Mag2)\n",
        "direc = (math.cos(Grad))\n",
        "print(\"La magnitud escalar es: \" +str(MagTot)+ \" y su direccion es: \" +str(direc)+ \" grados\")"
      ],
      "metadata": {
        "colab": {
          "base_uri": "https://localhost:8080/"
        },
        "id": "ftIHhJJIq1aa",
        "outputId": "3c518536-ca3f-4e29-db2d-7fef70cec3d5"
      },
      "execution_count": 22,
      "outputs": [
        {
          "output_type": "stream",
          "name": "stdout",
          "text": [
            "ingrese la primera magnitud: 55\n",
            "ingrese la magnitud del vector 2: 55\n",
            "ingrese los grados entre los dos vectores: 50\n",
            "La magnitud escalar es: 3025.0 y su direccion es: 0.9649660284921133 grados\n"
          ]
        }
      ]
    }
  ]
}